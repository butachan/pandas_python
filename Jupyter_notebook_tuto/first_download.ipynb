{
 "cells": [
  {
   "cell_type": "markdown",
   "id": "7d681447",
   "metadata": {},
   "source": [
    "Coucou <b> Je me lance dans la data science </b>"
   ]
  },
  {
   "cell_type": "code",
   "execution_count": 3,
   "id": "d859ec65",
   "metadata": {},
   "outputs": [
    {
     "data": {
      "text/plain": [
       "'PRISE EN MAIN JUPYTER'"
      ]
     },
     "execution_count": 3,
     "metadata": {},
     "output_type": "execute_result"
    }
   ],
   "source": [
    "'prise en main jupyter'.upper()"
   ]
  },
  {
   "cell_type": "code",
   "execution_count": 4,
   "id": "5dc3c09f",
   "metadata": {},
   "outputs": [
    {
     "name": "stdout",
     "output_type": "stream",
     "text": [
      "shift entree pour executer\n"
     ]
    }
   ],
   "source": [
    "print(\"shift entree pour executer\")"
   ]
  },
  {
   "cell_type": "code",
   "execution_count": null,
   "id": "65d54ccd",
   "metadata": {},
   "outputs": [],
   "source": []
  }
 ],
 "metadata": {
  "kernelspec": {
   "display_name": "Python 3 (ipykernel)",
   "language": "python",
   "name": "python3"
  },
  "language_info": {
   "codemirror_mode": {
    "name": "ipython",
    "version": 3
   },
   "file_extension": ".py",
   "mimetype": "text/x-python",
   "name": "python",
   "nbconvert_exporter": "python",
   "pygments_lexer": "ipython3",
   "version": "3.9.7"
  }
 },
 "nbformat": 4,
 "nbformat_minor": 5
}
